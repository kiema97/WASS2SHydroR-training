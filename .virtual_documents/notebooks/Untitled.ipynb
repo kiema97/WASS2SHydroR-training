


library(tidyverse)
library(ggplot2)


data<- data.frame(dates = seq.Date(from = as.Date("2025-01-01"),
                                   to = as.Date("2025-12-31"),
                                   by = "d"))


range(data$dates)



