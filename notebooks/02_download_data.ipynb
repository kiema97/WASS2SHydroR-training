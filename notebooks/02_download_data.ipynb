{
 "cells": [
  {
   "cell_type": "markdown",
   "id": "494ffc58-f043-46ac-ae75-6a5783f6865a",
   "metadata": {},
   "source": [
    "## Téléchargement des données climatiques (CDS/ECMWF) avec wass2s_download_cds."
   ]
  },
  {
   "cell_type": "code",
   "execution_count": null,
   "id": "4d333e80-9285-4ba7-933e-ebbda65a92b7",
   "metadata": {},
   "outputs": [],
   "source": []
  }
 ],
 "metadata": {
  "kernelspec": {
   "display_name": "R",
   "language": "R",
   "name": "ir"
  },
  "language_info": {
   "codemirror_mode": "r",
   "file_extension": ".r",
   "mimetype": "text/x-r-source",
   "name": "R",
   "pygments_lexer": "r",
   "version": "4.4.3"
  }
 },
 "nbformat": 4,
 "nbformat_minor": 5
}
