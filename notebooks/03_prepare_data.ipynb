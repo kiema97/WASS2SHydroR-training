{
 "cells": [
  {
   "cell_type": "markdown",
   "id": "32a59fbd-3e75-4002-9e8c-e4e2a51db089",
   "metadata": {},
   "source": [
    "## Prétraitement, structuration et mise en forme des données pour la modélisation."
   ]
  },
  {
   "cell_type": "code",
   "execution_count": null,
   "id": "564e2ae7-d413-4125-b782-34faae74de7a",
   "metadata": {},
   "outputs": [],
   "source": []
  }
 ],
 "metadata": {
  "kernelspec": {
   "display_name": "R",
   "language": "R",
   "name": "ir"
  },
  "language_info": {
   "codemirror_mode": "r",
   "file_extension": ".r",
   "mimetype": "text/x-r-source",
   "name": "R",
   "pygments_lexer": "r",
   "version": "4.4.3"
  }
 },
 "nbformat": 4,
 "nbformat_minor": 5
}
