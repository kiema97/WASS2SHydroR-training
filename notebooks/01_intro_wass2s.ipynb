{
 "cells": [
  {
   "cell_type": "markdown",
   "id": "fd7a4f18-17cb-402b-a618-62583612a7d3",
   "metadata": {},
   "source": [
    "## Présentation du package et chargement de base."
   ]
  },
  {
   "cell_type": "code",
   "execution_count": 6,
   "id": "91af307a-8a8f-43b2-8258-0c1e0e5c7ed4",
   "metadata": {},
   "outputs": [],
   "source": [
    "library(tidyverse)\n",
    "library(ggplot2)"
   ]
  },
  {
   "cell_type": "code",
   "execution_count": 7,
   "id": "ea53bdb9-ac5c-4c19-8502-30ab8b2a2f1c",
   "metadata": {},
   "outputs": [],
   "source": [
    "data<- data.frame(dates = seq.Date(from = as.Date(\"2025-01-01\"),\n",
    "                                   to = as.Date(\"2025-12-31\"),\n",
    "                                   by = \"d\"))"
   ]
  },
  {
   "cell_type": "code",
   "execution_count": 8,
   "id": "63d76f21-1a0d-42a2-81d1-c80b4fd520fb",
   "metadata": {},
   "outputs": [
    {
     "data": {
      "text/html": [
       "<style>\n",
       ".list-inline {list-style: none; margin:0; padding: 0}\n",
       ".list-inline>li {display: inline-block}\n",
       ".list-inline>li:not(:last-child)::after {content: \"\\00b7\"; padding: 0 .5ex}\n",
       "</style>\n",
       "<ol class=list-inline><li><time datetime=\"2025-01-01\">2025-01-01</time></li><li><time datetime=\"2025-12-31\">2025-12-31</time></li></ol>\n"
      ],
      "text/latex": [
       "\\begin{enumerate*}\n",
       "\\item 2025-01-01\n",
       "\\item 2025-12-31\n",
       "\\end{enumerate*}\n"
      ],
      "text/markdown": [
       "1. 2025-01-01\n",
       "2. 2025-12-31\n",
       "\n",
       "\n"
      ],
      "text/plain": [
       "[1] \"2025-01-01\" \"2025-12-31\""
      ]
     },
     "metadata": {},
     "output_type": "display_data"
    }
   ],
   "source": [
    "range(data$dates)"
   ]
  },
  {
   "cell_type": "code",
   "execution_count": null,
   "id": "42be0e42-4915-4699-b670-b9a11b46bd37",
   "metadata": {},
   "outputs": [],
   "source": []
  }
 ],
 "metadata": {
  "kernelspec": {
   "display_name": "R",
   "language": "R",
   "name": "ir"
  },
  "language_info": {
   "codemirror_mode": "r",
   "file_extension": ".r",
   "mimetype": "text/x-r-source",
   "name": "R",
   "pygments_lexer": "r",
   "version": "4.4.3"
  }
 },
 "nbformat": 4,
 "nbformat_minor": 5
}
