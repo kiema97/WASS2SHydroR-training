{
 "cells": [
  {
   "cell_type": "markdown",
   "id": "5fce301f-e640-47fe-8511-b14d765a5b66",
   "metadata": {},
   "source": [
    "## Utilisation des méthodes statistiques (PCR, Ridge, Lasso)."
   ]
  },
  {
   "cell_type": "code",
   "execution_count": null,
   "id": "0f5ae757-bf85-4ab2-8985-bab48d4b168f",
   "metadata": {},
   "outputs": [],
   "source": []
  }
 ],
 "metadata": {
  "kernelspec": {
   "display_name": "R",
   "language": "R",
   "name": "ir"
  },
  "language_info": {
   "codemirror_mode": "r",
   "file_extension": ".r",
   "mimetype": "text/x-r-source",
   "name": "R",
   "pygments_lexer": "r",
   "version": "4.4.3"
  }
 },
 "nbformat": 4,
 "nbformat_minor": 5
}
