{
 "cells": [
  {
   "cell_type": "markdown",
   "id": "924b73b9-6a82-42c8-b857-9350a2aa95b1",
   "metadata": {},
   "source": [
    "## Étude de cas complète sur un bassin versant : du téléchargement à la prévision consolidée."
   ]
  },
  {
   "cell_type": "code",
   "execution_count": null,
   "id": "a5c7817d-8b43-4d22-9124-d8f852c6e747",
   "metadata": {},
   "outputs": [],
   "source": []
  }
 ],
 "metadata": {
  "kernelspec": {
   "display_name": "R",
   "language": "R",
   "name": "ir"
  },
  "language_info": {
   "codemirror_mode": "r",
   "file_extension": ".r",
   "mimetype": "text/x-r-source",
   "name": "R",
   "pygments_lexer": "r",
   "version": "4.4.3"
  }
 },
 "nbformat": 4,
 "nbformat_minor": 5
}
