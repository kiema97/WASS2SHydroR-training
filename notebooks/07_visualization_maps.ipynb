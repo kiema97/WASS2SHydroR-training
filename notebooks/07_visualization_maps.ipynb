{
 "cells": [
  {
   "cell_type": "markdown",
   "id": "f58995c6-3f0b-4bca-add6-dc9162032cef",
   "metadata": {},
   "source": [
    "## Cartographie et visualisation des prévisions (probabilités, classes, indicateurs)."
   ]
  },
  {
   "cell_type": "code",
   "execution_count": null,
   "id": "925901b4-8a3e-4394-8bfd-367b74a8e18c",
   "metadata": {},
   "outputs": [],
   "source": []
  }
 ],
 "metadata": {
  "kernelspec": {
   "display_name": "R",
   "language": "R",
   "name": "ir"
  },
  "language_info": {
   "codemirror_mode": "r",
   "file_extension": ".r",
   "mimetype": "text/x-r-source",
   "name": "R",
   "pygments_lexer": "r",
   "version": "4.4.3"
  }
 },
 "nbformat": 4,
 "nbformat_minor": 5
}
