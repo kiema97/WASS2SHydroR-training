{
 "cells": [
  {
   "cell_type": "markdown",
   "id": "66e89cd4-00cc-4ed4-ab4f-10907421bce2",
   "metadata": {},
   "source": [
    "## Mise en œuvre des modèles machine learning (RF, XGB, LSTM, etc.)."
   ]
  },
  {
   "cell_type": "code",
   "execution_count": null,
   "id": "132d673a-2abb-457a-b975-da7b1e9711c3",
   "metadata": {},
   "outputs": [],
   "source": []
  }
 ],
 "metadata": {
  "kernelspec": {
   "display_name": "R",
   "language": "R",
   "name": "ir"
  },
  "language_info": {
   "codemirror_mode": "r",
   "file_extension": ".r",
   "mimetype": "text/x-r-source",
   "name": "R",
   "pygments_lexer": "r",
   "version": "4.4.3"
  }
 },
 "nbformat": 4,
 "nbformat_minor": 5
}
